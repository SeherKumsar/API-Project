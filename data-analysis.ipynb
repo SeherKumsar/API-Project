{
 "cells": [
  {
   "cell_type": "code",
   "execution_count": 1,
   "metadata": {},
   "outputs": [],
   "source": [
    "import pandas as pd\n",
    "import numpy as np\n",
    "import matplotlib.pyplot as plt\n",
    "from IPython.display import Image\n",
    "from config.config import NASA_API_KEY\n",
    "from api_methods import closes_approach, get_apod_image"
   ]
  },
  {
   "cell_type": "markdown",
   "metadata": {},
   "source": [
    "NASA'nın Astronomy Picture of the Day (APOD) API'sini kullanarak belirli bir tarihte (bu örnekte '2022-01-01') bir görsel çekelim."
   ]
  },
  {
   "cell_type": "code",
   "execution_count": 2,
   "metadata": {},
   "outputs": [
    {
     "name": "stdout",
     "output_type": "stream",
     "text": [
      "{'copyright': 'Soumyadeep Mukherjee', 'date': '2022-01-01', 'explanation': \"very Full Moon of 2021 shines in this year-spanning astrophoto project, a composite portrait of the familiar lunar nearside at each brightest lunar phase. Arranged by moonth, the year progresses in stripes beginning at the top. Taken with the same camera and lens the stripes are from Full Moon images all combined at the same pixel scale. The stripes still look mismatched, but they show that the Full Moon's angular size changes throughout the year depending on its distance from Kolkata, India, planet Earth. The calendar month, a full moon name, distance in kilometers, and angular size is indicated for each stripe. Angular size is given in minutes of arc corresponding to 1/60th of a degree. The largest Full Moon is near a perigee or closest approach in May. The smallest is near an apogee, the most distant Full Moon in December. Of course the full moons of May and November also slid into Earth's shadow during 2021's two lunar eclipses.\", 'hdurl': 'https://apod.nasa.gov/apod/image/2201/MoonstripsAnnotatedIG.jpg', 'media_type': 'image', 'service_version': 'v1', 'title': 'The Full Moon of 2021', 'url': 'https://apod.nasa.gov/apod/image/2201/MoonstripsAnnotatedIG_crop1024.jpg'}\n"
     ]
    },
    {
     "data": {
      "text/html": [
       "<img src=\"https://apod.nasa.gov/apod/image/2201/MoonstripsAnnotatedIG_crop1024.jpg\"/>"
      ],
      "text/plain": [
       "<IPython.core.display.Image object>"
      ]
     },
     "metadata": {},
     "output_type": "display_data"
    }
   ],
   "source": [
    "image = get_apod_image(NASA_API_KEY, date='2022-01-01')"
   ]
  },
  {
   "cell_type": "markdown",
   "metadata": {},
   "source": [
    "NASA'nın Jet Propulsion Laboratory (JPL) Small-Body Database'den 2020-01-01 tarihinden başlayıp 2021-12-31 tarihine kadar olan \"Yaklaşan Nesne Geçişleri\" verilerini çekelim."
   ]
  },
  {
   "cell_type": "code",
   "execution_count": 3,
   "metadata": {},
   "outputs": [],
   "source": [
    "df_closes_approach = closes_approach(date_min='2020-01-01', date_max='2021-12-31', return_df=True)"
   ]
  },
  {
   "cell_type": "code",
   "execution_count": 4,
   "metadata": {},
   "outputs": [
    {
     "data": {
      "text/html": [
       "<div>\n",
       "<style scoped>\n",
       "    .dataframe tbody tr th:only-of-type {\n",
       "        vertical-align: middle;\n",
       "    }\n",
       "\n",
       "    .dataframe tbody tr th {\n",
       "        vertical-align: top;\n",
       "    }\n",
       "\n",
       "    .dataframe thead th {\n",
       "        text-align: right;\n",
       "    }\n",
       "</style>\n",
       "<table border=\"1\" class=\"dataframe\">\n",
       "  <thead>\n",
       "    <tr style=\"text-align: right;\">\n",
       "      <th></th>\n",
       "      <th>des</th>\n",
       "      <th>orbit_id</th>\n",
       "      <th>jd</th>\n",
       "      <th>cd</th>\n",
       "      <th>dist</th>\n",
       "      <th>dist_min</th>\n",
       "      <th>dist_max</th>\n",
       "      <th>v_rel</th>\n",
       "      <th>v_inf</th>\n",
       "      <th>t_sigma_f</th>\n",
       "      <th>h</th>\n",
       "    </tr>\n",
       "  </thead>\n",
       "  <tbody>\n",
       "    <tr>\n",
       "      <th>0</th>\n",
       "      <td>2020 AY1</td>\n",
       "      <td>19</td>\n",
       "      <td>2458849.537524375</td>\n",
       "      <td>2020-Jan-01 00:54</td>\n",
       "      <td>0.0211660462302475</td>\n",
       "      <td>0.0211628282597546</td>\n",
       "      <td>0.021169264192927</td>\n",
       "      <td>5.62203034144512</td>\n",
       "      <td>5.59959426682482</td>\n",
       "      <td>&lt; 00:01</td>\n",
       "      <td>25.2</td>\n",
       "    </tr>\n",
       "    <tr>\n",
       "      <th>1</th>\n",
       "      <td>2019 YK</td>\n",
       "      <td>11</td>\n",
       "      <td>2458849.587204797</td>\n",
       "      <td>2020-Jan-01 02:06</td>\n",
       "      <td>0.0361009647238789</td>\n",
       "      <td>0.0360768259080859</td>\n",
       "      <td>0.0361251034508466</td>\n",
       "      <td>7.35926278450408</td>\n",
       "      <td>7.34922690439657</td>\n",
       "      <td>&lt; 00:01</td>\n",
       "      <td>24.10</td>\n",
       "    </tr>\n",
       "    <tr>\n",
       "      <th>2</th>\n",
       "      <td>2020 AP3</td>\n",
       "      <td>4</td>\n",
       "      <td>2458849.967322953</td>\n",
       "      <td>2020-Jan-01 11:13</td>\n",
       "      <td>0.0167404854088158</td>\n",
       "      <td>0.0165847722715622</td>\n",
       "      <td>0.0168961658040387</td>\n",
       "      <td>5.19125028298636</td>\n",
       "      <td>5.16049919025748</td>\n",
       "      <td>00:05</td>\n",
       "      <td>26.6</td>\n",
       "    </tr>\n",
       "    <tr>\n",
       "      <th>3</th>\n",
       "      <td>2020 AN2</td>\n",
       "      <td>2</td>\n",
       "      <td>2458850.387698712</td>\n",
       "      <td>2020-Jan-01 21:18</td>\n",
       "      <td>0.0202143163095242</td>\n",
       "      <td>0.0196465482155464</td>\n",
       "      <td>0.0207820804994879</td>\n",
       "      <td>15.3528157321644</td>\n",
       "      <td>15.3442278367922</td>\n",
       "      <td>00:33</td>\n",
       "      <td>26.5</td>\n",
       "    </tr>\n",
       "    <tr>\n",
       "      <th>4</th>\n",
       "      <td>2020 AX</td>\n",
       "      <td>6</td>\n",
       "      <td>2458850.450408059</td>\n",
       "      <td>2020-Jan-01 22:49</td>\n",
       "      <td>0.0496561823173887</td>\n",
       "      <td>0.0491870437725472</td>\n",
       "      <td>0.0501253029712591</td>\n",
       "      <td>7.31673540674871</td>\n",
       "      <td>7.30939805239444</td>\n",
       "      <td>00:04</td>\n",
       "      <td>26.3</td>\n",
       "    </tr>\n",
       "    <tr>\n",
       "      <th>...</th>\n",
       "      <td>...</td>\n",
       "      <td>...</td>\n",
       "      <td>...</td>\n",
       "      <td>...</td>\n",
       "      <td>...</td>\n",
       "      <td>...</td>\n",
       "      <td>...</td>\n",
       "      <td>...</td>\n",
       "      <td>...</td>\n",
       "      <td>...</td>\n",
       "      <td>...</td>\n",
       "    </tr>\n",
       "    <tr>\n",
       "      <th>3081</th>\n",
       "      <td>2022 AK2</td>\n",
       "      <td>1</td>\n",
       "      <td>2459578.063888190</td>\n",
       "      <td>2021-Dec-29 13:32</td>\n",
       "      <td>0.0108915345174422</td>\n",
       "      <td>0.0107830202292813</td>\n",
       "      <td>0.0110000419992343</td>\n",
       "      <td>12.5834259046849</td>\n",
       "      <td>12.5639696040604</td>\n",
       "      <td>00:10</td>\n",
       "      <td>26.20</td>\n",
       "    </tr>\n",
       "    <tr>\n",
       "      <th>3082</th>\n",
       "      <td>2022 AD1</td>\n",
       "      <td>4</td>\n",
       "      <td>2459578.276547641</td>\n",
       "      <td>2021-Dec-29 18:38</td>\n",
       "      <td>0.0450003525672044</td>\n",
       "      <td>0.0444762803390481</td>\n",
       "      <td>0.0455244036685147</td>\n",
       "      <td>8.21030528009075</td>\n",
       "      <td>8.20309041862716</td>\n",
       "      <td>&lt; 00:01</td>\n",
       "      <td>25.70</td>\n",
       "    </tr>\n",
       "    <tr>\n",
       "      <th>3083</th>\n",
       "      <td>2021 YV</td>\n",
       "      <td>4</td>\n",
       "      <td>2459578.378737518</td>\n",
       "      <td>2021-Dec-29 21:05</td>\n",
       "      <td>0.0480996478172682</td>\n",
       "      <td>0.047776924675773</td>\n",
       "      <td>0.0484223471417769</td>\n",
       "      <td>4.49937670547313</td>\n",
       "      <td>4.48704811261195</td>\n",
       "      <td>00:03</td>\n",
       "      <td>26.52</td>\n",
       "    </tr>\n",
       "    <tr>\n",
       "      <th>3084</th>\n",
       "      <td>2022 AM1</td>\n",
       "      <td>3</td>\n",
       "      <td>2459578.624064002</td>\n",
       "      <td>2021-Dec-30 02:59</td>\n",
       "      <td>0.0197473442108376</td>\n",
       "      <td>0.0196146786302537</td>\n",
       "      <td>0.0198800060189058</td>\n",
       "      <td>10.9889778492507</td>\n",
       "      <td>10.9766924522415</td>\n",
       "      <td>00:02</td>\n",
       "      <td>26.95</td>\n",
       "    </tr>\n",
       "    <tr>\n",
       "      <th>3085</th>\n",
       "      <td>2022 AX</td>\n",
       "      <td>3</td>\n",
       "      <td>2459578.855475895</td>\n",
       "      <td>2021-Dec-30 08:32</td>\n",
       "      <td>0.0323425351817677</td>\n",
       "      <td>0.0319378751350395</td>\n",
       "      <td>0.0327471645209624</td>\n",
       "      <td>7.4424355204894</td>\n",
       "      <td>7.43135789833013</td>\n",
       "      <td>&lt; 00:01</td>\n",
       "      <td>26.77</td>\n",
       "    </tr>\n",
       "  </tbody>\n",
       "</table>\n",
       "<p>3086 rows × 11 columns</p>\n",
       "</div>"
      ],
      "text/plain": [
       "           des orbit_id                 jd                 cd  \\\n",
       "0     2020 AY1       19  2458849.537524375  2020-Jan-01 00:54   \n",
       "1      2019 YK       11  2458849.587204797  2020-Jan-01 02:06   \n",
       "2     2020 AP3        4  2458849.967322953  2020-Jan-01 11:13   \n",
       "3     2020 AN2        2  2458850.387698712  2020-Jan-01 21:18   \n",
       "4      2020 AX        6  2458850.450408059  2020-Jan-01 22:49   \n",
       "...        ...      ...                ...                ...   \n",
       "3081  2022 AK2        1  2459578.063888190  2021-Dec-29 13:32   \n",
       "3082  2022 AD1        4  2459578.276547641  2021-Dec-29 18:38   \n",
       "3083   2021 YV        4  2459578.378737518  2021-Dec-29 21:05   \n",
       "3084  2022 AM1        3  2459578.624064002  2021-Dec-30 02:59   \n",
       "3085   2022 AX        3  2459578.855475895  2021-Dec-30 08:32   \n",
       "\n",
       "                    dist            dist_min            dist_max  \\\n",
       "0     0.0211660462302475  0.0211628282597546   0.021169264192927   \n",
       "1     0.0361009647238789  0.0360768259080859  0.0361251034508466   \n",
       "2     0.0167404854088158  0.0165847722715622  0.0168961658040387   \n",
       "3     0.0202143163095242  0.0196465482155464  0.0207820804994879   \n",
       "4     0.0496561823173887  0.0491870437725472  0.0501253029712591   \n",
       "...                  ...                 ...                 ...   \n",
       "3081  0.0108915345174422  0.0107830202292813  0.0110000419992343   \n",
       "3082  0.0450003525672044  0.0444762803390481  0.0455244036685147   \n",
       "3083  0.0480996478172682   0.047776924675773  0.0484223471417769   \n",
       "3084  0.0197473442108376  0.0196146786302537  0.0198800060189058   \n",
       "3085  0.0323425351817677  0.0319378751350395  0.0327471645209624   \n",
       "\n",
       "                 v_rel             v_inf t_sigma_f      h  \n",
       "0     5.62203034144512  5.59959426682482   < 00:01   25.2  \n",
       "1     7.35926278450408  7.34922690439657   < 00:01  24.10  \n",
       "2     5.19125028298636  5.16049919025748     00:05   26.6  \n",
       "3     15.3528157321644  15.3442278367922     00:33   26.5  \n",
       "4     7.31673540674871  7.30939805239444     00:04   26.3  \n",
       "...                ...               ...       ...    ...  \n",
       "3081  12.5834259046849  12.5639696040604     00:10  26.20  \n",
       "3082  8.21030528009075  8.20309041862716   < 00:01  25.70  \n",
       "3083  4.49937670547313  4.48704811261195     00:03  26.52  \n",
       "3084  10.9889778492507  10.9766924522415     00:02  26.95  \n",
       "3085   7.4424355204894  7.43135789833013   < 00:01  26.77  \n",
       "\n",
       "[3086 rows x 11 columns]"
      ]
     },
     "execution_count": 4,
     "metadata": {},
     "output_type": "execute_result"
    }
   ],
   "source": [
    "df_closes_approach"
   ]
  },
  {
   "cell_type": "code",
   "execution_count": 5,
   "metadata": {},
   "outputs": [
    {
     "name": "stdout",
     "output_type": "stream",
     "text": [
      "<class 'pandas.core.frame.DataFrame'>\n",
      "RangeIndex: 3086 entries, 0 to 3085\n",
      "Data columns (total 11 columns):\n",
      " #   Column     Non-Null Count  Dtype \n",
      "---  ------     --------------  ----- \n",
      " 0   des        3086 non-null   object\n",
      " 1   orbit_id   3086 non-null   object\n",
      " 2   jd         3086 non-null   object\n",
      " 3   cd         3086 non-null   object\n",
      " 4   dist       3086 non-null   object\n",
      " 5   dist_min   3086 non-null   object\n",
      " 6   dist_max   3086 non-null   object\n",
      " 7   v_rel      3086 non-null   object\n",
      " 8   v_inf      3085 non-null   object\n",
      " 9   t_sigma_f  3086 non-null   object\n",
      " 10  h          3086 non-null   object\n",
      "dtypes: object(11)\n",
      "memory usage: 265.3+ KB\n"
     ]
    }
   ],
   "source": [
    "df_closes_approach.info()"
   ]
  },
  {
   "cell_type": "code",
   "execution_count": 6,
   "metadata": {},
   "outputs": [],
   "source": [
    "# Convert the 'dist', 'dist_min', and 'dist_max' columns to float\n",
    "df_closes_approach['dist'] = df_closes_approach['dist'].astype(float)\n",
    "df_closes_approach['dist_min'] = df_closes_approach['dist_min'].astype(float)\n",
    "df_closes_approach['dist_max'] = df_closes_approach['dist_max'].astype(float)"
   ]
  },
  {
   "cell_type": "code",
   "execution_count": 7,
   "metadata": {},
   "outputs": [
    {
     "name": "stdout",
     "output_type": "stream",
     "text": [
      "Örneklem Sayısı: 3086\n"
     ]
    }
   ],
   "source": [
    "print(\"Örneklem Sayısı:\", len(df_closes_approach))"
   ]
  },
  {
   "cell_type": "code",
   "execution_count": 8,
   "metadata": {},
   "outputs": [
    {
     "data": {
      "text/html": [
       "<div>\n",
       "<style scoped>\n",
       "    .dataframe tbody tr th:only-of-type {\n",
       "        vertical-align: middle;\n",
       "    }\n",
       "\n",
       "    .dataframe tbody tr th {\n",
       "        vertical-align: top;\n",
       "    }\n",
       "\n",
       "    .dataframe thead th {\n",
       "        text-align: right;\n",
       "    }\n",
       "</style>\n",
       "<table border=\"1\" class=\"dataframe\">\n",
       "  <thead>\n",
       "    <tr style=\"text-align: right;\">\n",
       "      <th></th>\n",
       "      <th>des</th>\n",
       "      <th>orbit_id</th>\n",
       "      <th>jd</th>\n",
       "      <th>cd</th>\n",
       "      <th>dist</th>\n",
       "      <th>dist_min</th>\n",
       "      <th>dist_max</th>\n",
       "      <th>v_rel</th>\n",
       "      <th>v_inf</th>\n",
       "      <th>t_sigma_f</th>\n",
       "      <th>h</th>\n",
       "    </tr>\n",
       "  </thead>\n",
       "  <tbody>\n",
       "    <tr>\n",
       "      <th>0</th>\n",
       "      <td>2020 AY1</td>\n",
       "      <td>19</td>\n",
       "      <td>2458849.537524375</td>\n",
       "      <td>2020-Jan-01 00:54</td>\n",
       "      <td>0.021166</td>\n",
       "      <td>0.021163</td>\n",
       "      <td>0.021169</td>\n",
       "      <td>5.62203034144512</td>\n",
       "      <td>5.59959426682482</td>\n",
       "      <td>&lt; 00:01</td>\n",
       "      <td>25.2</td>\n",
       "    </tr>\n",
       "    <tr>\n",
       "      <th>1</th>\n",
       "      <td>2019 YK</td>\n",
       "      <td>11</td>\n",
       "      <td>2458849.587204797</td>\n",
       "      <td>2020-Jan-01 02:06</td>\n",
       "      <td>0.036101</td>\n",
       "      <td>0.036077</td>\n",
       "      <td>0.036125</td>\n",
       "      <td>7.35926278450408</td>\n",
       "      <td>7.34922690439657</td>\n",
       "      <td>&lt; 00:01</td>\n",
       "      <td>24.10</td>\n",
       "    </tr>\n",
       "    <tr>\n",
       "      <th>2</th>\n",
       "      <td>2020 AP3</td>\n",
       "      <td>4</td>\n",
       "      <td>2458849.967322953</td>\n",
       "      <td>2020-Jan-01 11:13</td>\n",
       "      <td>0.016740</td>\n",
       "      <td>0.016585</td>\n",
       "      <td>0.016896</td>\n",
       "      <td>5.19125028298636</td>\n",
       "      <td>5.16049919025748</td>\n",
       "      <td>00:05</td>\n",
       "      <td>26.6</td>\n",
       "    </tr>\n",
       "    <tr>\n",
       "      <th>3</th>\n",
       "      <td>2020 AN2</td>\n",
       "      <td>2</td>\n",
       "      <td>2458850.387698712</td>\n",
       "      <td>2020-Jan-01 21:18</td>\n",
       "      <td>0.020214</td>\n",
       "      <td>0.019647</td>\n",
       "      <td>0.020782</td>\n",
       "      <td>15.3528157321644</td>\n",
       "      <td>15.3442278367922</td>\n",
       "      <td>00:33</td>\n",
       "      <td>26.5</td>\n",
       "    </tr>\n",
       "    <tr>\n",
       "      <th>4</th>\n",
       "      <td>2020 AX</td>\n",
       "      <td>6</td>\n",
       "      <td>2458850.450408059</td>\n",
       "      <td>2020-Jan-01 22:49</td>\n",
       "      <td>0.049656</td>\n",
       "      <td>0.049187</td>\n",
       "      <td>0.050125</td>\n",
       "      <td>7.31673540674871</td>\n",
       "      <td>7.30939805239444</td>\n",
       "      <td>00:04</td>\n",
       "      <td>26.3</td>\n",
       "    </tr>\n",
       "  </tbody>\n",
       "</table>\n",
       "</div>"
      ],
      "text/plain": [
       "        des orbit_id                 jd                 cd      dist  \\\n",
       "0  2020 AY1       19  2458849.537524375  2020-Jan-01 00:54  0.021166   \n",
       "1   2019 YK       11  2458849.587204797  2020-Jan-01 02:06  0.036101   \n",
       "2  2020 AP3        4  2458849.967322953  2020-Jan-01 11:13  0.016740   \n",
       "3  2020 AN2        2  2458850.387698712  2020-Jan-01 21:18  0.020214   \n",
       "4   2020 AX        6  2458850.450408059  2020-Jan-01 22:49  0.049656   \n",
       "\n",
       "   dist_min  dist_max             v_rel             v_inf t_sigma_f      h  \n",
       "0  0.021163  0.021169  5.62203034144512  5.59959426682482   < 00:01   25.2  \n",
       "1  0.036077  0.036125  7.35926278450408  7.34922690439657   < 00:01  24.10  \n",
       "2  0.016585  0.016896  5.19125028298636  5.16049919025748     00:05   26.6  \n",
       "3  0.019647  0.020782  15.3528157321644  15.3442278367922     00:33   26.5  \n",
       "4  0.049187  0.050125  7.31673540674871  7.30939805239444     00:04   26.3  "
      ]
     },
     "execution_count": 8,
     "metadata": {},
     "output_type": "execute_result"
    }
   ],
   "source": [
    "df_closes_approach.head()"
   ]
  },
  {
   "cell_type": "code",
   "execution_count": 9,
   "metadata": {},
   "outputs": [
    {
     "name": "stdout",
     "output_type": "stream",
     "text": [
      "\n",
      "Temel İstatistikler:\n",
      "               dist      dist_min     dist_max\n",
      "count  3086.000000  3.086000e+03  3086.000000\n",
      "mean      0.021183  2.079230e-02     0.022061\n",
      "std       0.014244  1.410368e-02     0.016316\n",
      "min       0.000045  2.277050e-07     0.000045\n",
      "25%       0.008599  8.351845e-03     0.008705\n",
      "50%       0.019633  1.916733e-02     0.019914\n",
      "75%       0.032733  3.217200e-02     0.033529\n",
      "max       0.049996  4.998675e-02     0.186654\n"
     ]
    }
   ],
   "source": [
    "# İstatistiksel Analiz\n",
    "print(\"\\nTemel İstatistikler:\\n\", df_closes_approach.describe())\n"
   ]
  },
  {
   "cell_type": "code",
   "execution_count": 10,
   "metadata": {},
   "outputs": [
    {
     "data": {
      "image/png": "[encoded data removed]",
      "text/plain": [
       "<Figure size 1000x600 with 1 Axes>"
      ]
     },
     "metadata": {},
     "output_type": "display_data"
    }
   ],
   "source": [
    "# 'dist' sütununun histogramını çiz\n",
    "plt.figure(figsize=(10, 6))\n",
    "plt.hist(df_closes_approach['dist'], bins=30, color='blue', alpha=0.7)\n",
    "plt.title('Yaklaşım Mesafesi Histogramı')\n",
    "plt.xlabel('Yaklaşım Mesafesi (AU)')\n",
    "plt.ylabel('Frekans')\n",
    "plt.show()"
   ]
  },
  {
   "cell_type": "code",
   "execution_count": 11,
   "metadata": {},
   "outputs": [
    {
     "data": {
      "image/png": "[encoded data removed]",
      "text/plain": [
       "<Figure size 1000x600 with 1 Axes>"
      ]
     },
     "metadata": {},
     "output_type": "display_data"
    }
   ],
   "source": [
    "# 'dist_min' ve 'dist_max' sütunlarının birbirine karşı scatter plot çiz\n",
    "plt.figure(figsize=(10, 6))\n",
    "plt.scatter(df_closes_approach['dist_min'], df_closes_approach['dist_max'], color='red', alpha=0.5)\n",
    "plt.title('Minimum ve Maksimum Yaklaşım Mesafeleri')\n",
    "plt.xlabel('Minimum Yaklaşım Mesafesi (AU)')\n",
    "plt.ylabel('Maksimum Yaklaşım Mesafesi (AU)')\n",
    "plt.show()"
   ]
  },
  {
   "cell_type": "code",
   "execution_count": null,
   "metadata": {},
   "outputs": [],
   "source": []
  }
 ],
 "metadata": {
  "kernelspec": {
   "display_name": ".venv",
   "language": "python",
   "name": "python3"
  },
  "language_info": {
   "codemirror_mode": {
    "name": "ipython",
    "version": 3
   },
   "file_extension": ".py",
   "mimetype": "text/x-python",
   "name": "python",
   "nbconvert_exporter": "python",
   "pygments_lexer": "ipython3",
   "version": "3.11.3"
  }
 },
 "nbformat": 4,
 "nbformat_minor": 2
}
