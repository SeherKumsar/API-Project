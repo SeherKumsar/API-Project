{
 "cells": [
  {
   "cell_type": "code",
   "execution_count": 1,
   "metadata": {},
   "outputs": [],
   "source": [
    "# import nasapy\n",
    "import pandas as pd\n",
    "import numpy as np\n",
    "import matplotlib.pyplot as plt\n",
    "import urllib.request\n",
    "# from IPython.display import Image\n",
    "from config.config import NASA_API_KEY\n",
    "from api_methods import closes_approach, get_nasa_images, get_planet_data, display_nasa_thumbnail"
   ]
  },
  {
   "cell_type": "code",
   "execution_count": 2,
   "metadata": {},
   "outputs": [],
   "source": [
    "# Get the data from the NASA_API_KEY and save it to a file\n",
    "# Example usage\n",
    "result = closes_approach(date_min='2019-01-01', date_max='2019-12-31', dist_max=0.01)"
   ]
  },
  {
   "cell_type": "code",
   "execution_count": 3,
   "metadata": {},
   "outputs": [
    {
     "data": {
      "text/html": [
       "<div>\n",
       "<style scoped>\n",
       "    .dataframe tbody tr th:only-of-type {\n",
       "        vertical-align: middle;\n",
       "    }\n",
       "\n",
       "    .dataframe tbody tr th {\n",
       "        vertical-align: top;\n",
       "    }\n",
       "\n",
       "    .dataframe thead th {\n",
       "        text-align: right;\n",
       "    }\n",
       "</style>\n",
       "<table border=\"1\" class=\"dataframe\">\n",
       "  <thead>\n",
       "    <tr style=\"text-align: right;\">\n",
       "      <th></th>\n",
       "      <th>des</th>\n",
       "      <th>orbit_id</th>\n",
       "      <th>jd</th>\n",
       "      <th>cd</th>\n",
       "      <th>dist</th>\n",
       "      <th>dist_min</th>\n",
       "      <th>dist_max</th>\n",
       "      <th>v_rel</th>\n",
       "      <th>v_inf</th>\n",
       "      <th>t_sigma_f</th>\n",
       "      <th>h</th>\n",
       "    </tr>\n",
       "  </thead>\n",
       "  <tbody>\n",
       "    <tr>\n",
       "      <th>0</th>\n",
       "      <td>2019 AS3</td>\n",
       "      <td>2</td>\n",
       "      <td>2458485.682928227</td>\n",
       "      <td>2019-Jan-02 04:23</td>\n",
       "      <td>0.00420532365912753</td>\n",
       "      <td>0.00419084571441033</td>\n",
       "      <td>0.00421980105401907</td>\n",
       "      <td>14.3899152957483</td>\n",
       "      <td>14.3458171168367</td>\n",
       "      <td>00:02</td>\n",
       "      <td>28.1</td>\n",
       "    </tr>\n",
       "    <tr>\n",
       "      <th>1</th>\n",
       "      <td>2016 AV64</td>\n",
       "      <td>5</td>\n",
       "      <td>2458485.807648488</td>\n",
       "      <td>2019-Jan-02 07:23</td>\n",
       "      <td>0.00755301029795811</td>\n",
       "      <td>0.00621787465376375</td>\n",
       "      <td>0.151010363133769</td>\n",
       "      <td>14.9822562191111</td>\n",
       "      <td>14.958691800543</td>\n",
       "      <td>8_01:22</td>\n",
       "      <td>27.18</td>\n",
       "    </tr>\n",
       "    <tr>\n",
       "      <th>2</th>\n",
       "      <td>2019 AE3</td>\n",
       "      <td>3</td>\n",
       "      <td>2458486.423760958</td>\n",
       "      <td>2019-Jan-02 22:10</td>\n",
       "      <td>0.00520698549207061</td>\n",
       "      <td>0.00519034377659616</td>\n",
       "      <td>0.00522362704652594</td>\n",
       "      <td>8.45945441370815</td>\n",
       "      <td>8.39874657697308</td>\n",
       "      <td>&lt; 00:01</td>\n",
       "      <td>27.4</td>\n",
       "    </tr>\n",
       "    <tr>\n",
       "      <th>3</th>\n",
       "      <td>2019 AB</td>\n",
       "      <td>4</td>\n",
       "      <td>2458487.971282891</td>\n",
       "      <td>2019-Jan-04 11:19</td>\n",
       "      <td>0.0036795944851475</td>\n",
       "      <td>0.00367661055192861</td>\n",
       "      <td>0.00368257834893046</td>\n",
       "      <td>9.81234333488798</td>\n",
       "      <td>9.73826655706798</td>\n",
       "      <td>&lt; 00:01</td>\n",
       "      <td>26.42</td>\n",
       "    </tr>\n",
       "    <tr>\n",
       "      <th>4</th>\n",
       "      <td>2019 AH3</td>\n",
       "      <td>3</td>\n",
       "      <td>2458489.457530031</td>\n",
       "      <td>2019-Jan-05 22:59</td>\n",
       "      <td>0.00342841126472953</td>\n",
       "      <td>0.00342305194800279</td>\n",
       "      <td>0.003433770502278</td>\n",
       "      <td>17.9891971160312</td>\n",
       "      <td>17.9459427351924</td>\n",
       "      <td>&lt; 00:01</td>\n",
       "      <td>28.22</td>\n",
       "    </tr>\n",
       "  </tbody>\n",
       "</table>\n",
       "</div>"
      ],
      "text/plain": [
       "         des orbit_id                 jd                 cd  \\\n",
       "0   2019 AS3        2  2458485.682928227  2019-Jan-02 04:23   \n",
       "1  2016 AV64        5  2458485.807648488  2019-Jan-02 07:23   \n",
       "2   2019 AE3        3  2458486.423760958  2019-Jan-02 22:10   \n",
       "3    2019 AB        4  2458487.971282891  2019-Jan-04 11:19   \n",
       "4   2019 AH3        3  2458489.457530031  2019-Jan-05 22:59   \n",
       "\n",
       "                  dist             dist_min             dist_max  \\\n",
       "0  0.00420532365912753  0.00419084571441033  0.00421980105401907   \n",
       "1  0.00755301029795811  0.00621787465376375    0.151010363133769   \n",
       "2  0.00520698549207061  0.00519034377659616  0.00522362704652594   \n",
       "3   0.0036795944851475  0.00367661055192861  0.00368257834893046   \n",
       "4  0.00342841126472953  0.00342305194800279    0.003433770502278   \n",
       "\n",
       "              v_rel             v_inf t_sigma_f      h  \n",
       "0  14.3899152957483  14.3458171168367     00:02   28.1  \n",
       "1  14.9822562191111   14.958691800543   8_01:22  27.18  \n",
       "2  8.45945441370815  8.39874657697308   < 00:01   27.4  \n",
       "3  9.81234333488798  9.73826655706798   < 00:01  26.42  \n",
       "4  17.9891971160312  17.9459427351924   < 00:01  28.22  "
      ]
     },
     "execution_count": 3,
     "metadata": {},
     "output_type": "execute_result"
    }
   ],
   "source": [
    "# Create a DataFrame from the 'data' key\n",
    "df = pd.DataFrame(result['data'], columns=result['fields'])\n",
    "df.head()"
   ]
  },
  {
   "cell_type": "code",
   "execution_count": 4,
   "metadata": {},
   "outputs": [
    {
     "name": "stdout",
     "output_type": "stream",
     "text": [
      "<class 'pandas.core.frame.DataFrame'>\n",
      "RangeIndex: 331 entries, 0 to 330\n",
      "Data columns (total 11 columns):\n",
      " #   Column     Non-Null Count  Dtype \n",
      "---  ------     --------------  ----- \n",
      " 0   des        331 non-null    object\n",
      " 1   orbit_id   331 non-null    object\n",
      " 2   jd         331 non-null    object\n",
      " 3   cd         331 non-null    object\n",
      " 4   dist       331 non-null    object\n",
      " 5   dist_min   331 non-null    object\n",
      " 6   dist_max   331 non-null    object\n",
      " 7   v_rel      331 non-null    object\n",
      " 8   v_inf      326 non-null    object\n",
      " 9   t_sigma_f  331 non-null    object\n",
      " 10  h          331 non-null    object\n",
      "dtypes: object(11)\n",
      "memory usage: 28.6+ KB\n"
     ]
    }
   ],
   "source": [
    "df.info()"
   ]
  },
  {
   "cell_type": "code",
   "execution_count": 5,
   "metadata": {},
   "outputs": [],
   "source": [
    "# Convert the 'dist', 'dist_min', and 'dist_max' columns to float\n",
    "df['dist'] = df['dist'].astype(float)\n",
    "df['dist_min'] = df['dist_min'].astype(float)\n",
    "df['dist_max'] = df['dist_max'].astype(float)"
   ]
  },
  {
   "cell_type": "code",
   "execution_count": 6,
   "metadata": {},
   "outputs": [
    {
     "name": "stdout",
     "output_type": "stream",
     "text": [
      "Örneklem Sayısı: 331\n"
     ]
    }
   ],
   "source": [
    "print(\"Örneklem Sayısı:\", len(df))"
   ]
  },
  {
   "cell_type": "code",
   "execution_count": 7,
   "metadata": {},
   "outputs": [
    {
     "data": {
      "text/html": [
       "<div>\n",
       "<style scoped>\n",
       "    .dataframe tbody tr th:only-of-type {\n",
       "        vertical-align: middle;\n",
       "    }\n",
       "\n",
       "    .dataframe tbody tr th {\n",
       "        vertical-align: top;\n",
       "    }\n",
       "\n",
       "    .dataframe thead th {\n",
       "        text-align: right;\n",
       "    }\n",
       "</style>\n",
       "<table border=\"1\" class=\"dataframe\">\n",
       "  <thead>\n",
       "    <tr style=\"text-align: right;\">\n",
       "      <th></th>\n",
       "      <th>des</th>\n",
       "      <th>orbit_id</th>\n",
       "      <th>jd</th>\n",
       "      <th>cd</th>\n",
       "      <th>dist</th>\n",
       "      <th>dist_min</th>\n",
       "      <th>dist_max</th>\n",
       "      <th>v_rel</th>\n",
       "      <th>v_inf</th>\n",
       "      <th>t_sigma_f</th>\n",
       "      <th>h</th>\n",
       "    </tr>\n",
       "  </thead>\n",
       "  <tbody>\n",
       "    <tr>\n",
       "      <th>0</th>\n",
       "      <td>2019 AS3</td>\n",
       "      <td>2</td>\n",
       "      <td>2458485.682928227</td>\n",
       "      <td>2019-Jan-02 04:23</td>\n",
       "      <td>0.004205</td>\n",
       "      <td>0.004191</td>\n",
       "      <td>0.004220</td>\n",
       "      <td>14.3899152957483</td>\n",
       "      <td>14.3458171168367</td>\n",
       "      <td>00:02</td>\n",
       "      <td>28.1</td>\n",
       "    </tr>\n",
       "    <tr>\n",
       "      <th>1</th>\n",
       "      <td>2016 AV64</td>\n",
       "      <td>5</td>\n",
       "      <td>2458485.807648488</td>\n",
       "      <td>2019-Jan-02 07:23</td>\n",
       "      <td>0.007553</td>\n",
       "      <td>0.006218</td>\n",
       "      <td>0.151010</td>\n",
       "      <td>14.9822562191111</td>\n",
       "      <td>14.958691800543</td>\n",
       "      <td>8_01:22</td>\n",
       "      <td>27.18</td>\n",
       "    </tr>\n",
       "    <tr>\n",
       "      <th>2</th>\n",
       "      <td>2019 AE3</td>\n",
       "      <td>3</td>\n",
       "      <td>2458486.423760958</td>\n",
       "      <td>2019-Jan-02 22:10</td>\n",
       "      <td>0.005207</td>\n",
       "      <td>0.005190</td>\n",
       "      <td>0.005224</td>\n",
       "      <td>8.45945441370815</td>\n",
       "      <td>8.39874657697308</td>\n",
       "      <td>&lt; 00:01</td>\n",
       "      <td>27.4</td>\n",
       "    </tr>\n",
       "    <tr>\n",
       "      <th>3</th>\n",
       "      <td>2019 AB</td>\n",
       "      <td>4</td>\n",
       "      <td>2458487.971282891</td>\n",
       "      <td>2019-Jan-04 11:19</td>\n",
       "      <td>0.003680</td>\n",
       "      <td>0.003677</td>\n",
       "      <td>0.003683</td>\n",
       "      <td>9.81234333488798</td>\n",
       "      <td>9.73826655706798</td>\n",
       "      <td>&lt; 00:01</td>\n",
       "      <td>26.42</td>\n",
       "    </tr>\n",
       "    <tr>\n",
       "      <th>4</th>\n",
       "      <td>2019 AH3</td>\n",
       "      <td>3</td>\n",
       "      <td>2458489.457530031</td>\n",
       "      <td>2019-Jan-05 22:59</td>\n",
       "      <td>0.003428</td>\n",
       "      <td>0.003423</td>\n",
       "      <td>0.003434</td>\n",
       "      <td>17.9891971160312</td>\n",
       "      <td>17.9459427351924</td>\n",
       "      <td>&lt; 00:01</td>\n",
       "      <td>28.22</td>\n",
       "    </tr>\n",
       "  </tbody>\n",
       "</table>\n",
       "</div>"
      ],
      "text/plain": [
       "         des orbit_id                 jd                 cd      dist  \\\n",
       "0   2019 AS3        2  2458485.682928227  2019-Jan-02 04:23  0.004205   \n",
       "1  2016 AV64        5  2458485.807648488  2019-Jan-02 07:23  0.007553   \n",
       "2   2019 AE3        3  2458486.423760958  2019-Jan-02 22:10  0.005207   \n",
       "3    2019 AB        4  2458487.971282891  2019-Jan-04 11:19  0.003680   \n",
       "4   2019 AH3        3  2458489.457530031  2019-Jan-05 22:59  0.003428   \n",
       "\n",
       "   dist_min  dist_max             v_rel             v_inf t_sigma_f      h  \n",
       "0  0.004191  0.004220  14.3899152957483  14.3458171168367     00:02   28.1  \n",
       "1  0.006218  0.151010  14.9822562191111   14.958691800543   8_01:22  27.18  \n",
       "2  0.005190  0.005224  8.45945441370815  8.39874657697308   < 00:01   27.4  \n",
       "3  0.003677  0.003683  9.81234333488798  9.73826655706798   < 00:01  26.42  \n",
       "4  0.003423  0.003434  17.9891971160312  17.9459427351924   < 00:01  28.22  "
      ]
     },
     "execution_count": 7,
     "metadata": {},
     "output_type": "execute_result"
    }
   ],
   "source": [
    "df.head()"
   ]
  },
  {
   "cell_type": "code",
   "execution_count": 8,
   "metadata": {},
   "outputs": [],
   "source": [
    "# belirli bir tarih için Astronomy Picture of the Day (APOD)\n",
    "result = get_nasa_images(NASA_API_KEY, date='2023-12-24')"
   ]
  },
  {
   "cell_type": "code",
   "execution_count": 9,
   "metadata": {},
   "outputs": [
    {
     "data": {
      "text/plain": [
       "{'date': '2023-12-24',\n",
       " 'explanation': \"What's that in the center?  Like a butterfly, a white dwarf star begins its life by casting off a cocoon of gas that enclosed its former self.  In this analogy, however, the Sun would be a caterpillar and the ejected shell of gas would become the prettiest cocoon of all.  In the featured cocoon, the planetary nebula designated NGC 2440 contains one of the hottest white dwarf stars known.  The white dwarf can be seen as the bright orange dot near the image center.  Our Sun will eventually become a white dwarf butterfly, but not for another 5 billion years.\",\n",
       " 'hdurl': 'https://apod.nasa.gov/apod/image/2312/ngc2440e_hst_960.jpg',\n",
       " 'media_type': 'image',\n",
       " 'service_version': 'v1',\n",
       " 'title': 'NGC 2440: Cocoon of a New White Dwarf',\n",
       " 'url': 'https://apod.nasa.gov/apod/image/2312/ngc2440e_hst_960.jpg'}"
      ]
     },
     "execution_count": 9,
     "metadata": {},
     "output_type": "execute_result"
    }
   ],
   "source": [
    "result"
   ]
  },
  {
   "cell_type": "code",
   "execution_count": 10,
   "metadata": {},
   "outputs": [
    {
     "data": {
      "image/png": "[encoded data removed]",
      "text/plain": [
       "<IPython.core.display.Image object>"
      ]
     },
     "metadata": {},
     "output_type": "display_data"
    }
   ],
   "source": [
    "display_nasa_thumbnail(NASA_API_KEY, date='2023-12-24')"
   ]
  },
  {
   "cell_type": "code",
   "execution_count": 11,
   "metadata": {},
   "outputs": [],
   "source": [
    "# Güneş sistemindeki gezegenlerin adları: mercury, venus, earth, mars, jupiter, saturn, uranus, neptune\n",
    "planet_name = 'mars'\n",
    "result = get_planet_data(NASA_API_KEY, planet_name)"
   ]
  },
  {
   "cell_type": "code",
   "execution_count": 12,
   "metadata": {},
   "outputs": [
    {
     "data": {
      "text/plain": [
       "{'id': 'mars',\n",
       " 'name': 'Mars',\n",
       " 'englishName': 'Mars',\n",
       " 'isPlanet': True,\n",
       " 'moons': [{'moon': 'Phobos',\n",
       "   'rel': 'https://api.le-systeme-solaire.net/rest/bodies/phobos'},\n",
       "  {'moon': 'Deïmos',\n",
       "   'rel': 'https://api.le-systeme-solaire.net/rest/bodies/deimos'}],\n",
       " 'semimajorAxis': 227939200,\n",
       " 'perihelion': 206700000,\n",
       " 'aphelion': 249200000,\n",
       " 'eccentricity': 0.0935,\n",
       " 'inclination': 1.85,\n",
       " 'mass': {'massValue': 6.41712, 'massExponent': 23},\n",
       " 'vol': {'volValue': 1.6318, 'volExponent': 11},\n",
       " 'density': 3.9341,\n",
       " 'gravity': 3.71,\n",
       " 'escape': 5030.0,\n",
       " 'meanRadius': 3389.5,\n",
       " 'equaRadius': 3396.19,\n",
       " 'polarRadius': 3376.2,\n",
       " 'flattening': 0.00589,\n",
       " 'dimension': '',\n",
       " 'sideralOrbit': 686.98,\n",
       " 'sideralRotation': 24.6229,\n",
       " 'aroundPlanet': None,\n",
       " 'discoveredBy': '',\n",
       " 'discoveryDate': '',\n",
       " 'alternativeName': '',\n",
       " 'axialTilt': 25.19,\n",
       " 'avgTemp': 210,\n",
       " 'mainAnomaly': 19.412,\n",
       " 'argPeriapsis': 286.231,\n",
       " 'longAscNode': 49.667,\n",
       " 'bodyType': 'Planet'}"
      ]
     },
     "execution_count": 12,
     "metadata": {},
     "output_type": "execute_result"
    }
   ],
   "source": [
    "result"
   ]
  },
  {
   "cell_type": "code",
   "execution_count": 13,
   "metadata": {},
   "outputs": [
    {
     "data": {
      "text/html": [
       "<div>\n",
       "<style scoped>\n",
       "    .dataframe tbody tr th:only-of-type {\n",
       "        vertical-align: middle;\n",
       "    }\n",
       "\n",
       "    .dataframe tbody tr th {\n",
       "        vertical-align: top;\n",
       "    }\n",
       "\n",
       "    .dataframe thead th {\n",
       "        text-align: right;\n",
       "    }\n",
       "</style>\n",
       "<table border=\"1\" class=\"dataframe\">\n",
       "  <thead>\n",
       "    <tr style=\"text-align: right;\">\n",
       "      <th></th>\n",
       "      <th>id</th>\n",
       "      <th>name</th>\n",
       "      <th>englishName</th>\n",
       "      <th>isPlanet</th>\n",
       "      <th>moons</th>\n",
       "      <th>semimajorAxis</th>\n",
       "      <th>perihelion</th>\n",
       "      <th>aphelion</th>\n",
       "      <th>eccentricity</th>\n",
       "      <th>inclination</th>\n",
       "      <th>...</th>\n",
       "      <th>aroundPlanet</th>\n",
       "      <th>discoveredBy</th>\n",
       "      <th>discoveryDate</th>\n",
       "      <th>alternativeName</th>\n",
       "      <th>axialTilt</th>\n",
       "      <th>avgTemp</th>\n",
       "      <th>mainAnomaly</th>\n",
       "      <th>argPeriapsis</th>\n",
       "      <th>longAscNode</th>\n",
       "      <th>bodyType</th>\n",
       "    </tr>\n",
       "  </thead>\n",
       "  <tbody>\n",
       "    <tr>\n",
       "      <th>0</th>\n",
       "      <td>mars</td>\n",
       "      <td>Mars</td>\n",
       "      <td>Mars</td>\n",
       "      <td>True</td>\n",
       "      <td>[{'moon': 'Phobos', 'rel': 'https://api.le-sys...</td>\n",
       "      <td>227939200</td>\n",
       "      <td>206700000</td>\n",
       "      <td>249200000</td>\n",
       "      <td>0.0935</td>\n",
       "      <td>1.85</td>\n",
       "      <td>...</td>\n",
       "      <td>None</td>\n",
       "      <td></td>\n",
       "      <td></td>\n",
       "      <td></td>\n",
       "      <td>25.19</td>\n",
       "      <td>210</td>\n",
       "      <td>19.412</td>\n",
       "      <td>286.231</td>\n",
       "      <td>49.667</td>\n",
       "      <td>Planet</td>\n",
       "    </tr>\n",
       "  </tbody>\n",
       "</table>\n",
       "<p>1 rows × 32 columns</p>\n",
       "</div>"
      ],
      "text/plain": [
       "     id  name englishName  isPlanet  \\\n",
       "0  mars  Mars        Mars      True   \n",
       "\n",
       "                                               moons  semimajorAxis  \\\n",
       "0  [{'moon': 'Phobos', 'rel': 'https://api.le-sys...      227939200   \n",
       "\n",
       "   perihelion   aphelion  eccentricity  inclination  ... aroundPlanet  \\\n",
       "0   206700000  249200000        0.0935         1.85  ...         None   \n",
       "\n",
       "  discoveredBy  discoveryDate  alternativeName  axialTilt  avgTemp  \\\n",
       "0                                                   25.19      210   \n",
       "\n",
       "   mainAnomaly  argPeriapsis  longAscNode bodyType  \n",
       "0       19.412       286.231       49.667   Planet  \n",
       "\n",
       "[1 rows x 32 columns]"
      ]
     },
     "execution_count": 13,
     "metadata": {},
     "output_type": "execute_result"
    }
   ],
   "source": [
    "df_planet = pd.DataFrame([result])\n",
    "df_planet.head()"
   ]
  },
  {
   "cell_type": "code",
   "execution_count": null,
   "metadata": {},
   "outputs": [],
   "source": []
  }
 ],
 "metadata": {
  "kernelspec": {
   "display_name": ".venv",
   "language": "python",
   "name": "python3"
  },
  "language_info": {
   "codemirror_mode": {
    "name": "ipython",
    "version": 3
   },
   "file_extension": ".py",
   "mimetype": "text/x-python",
   "name": "python",
   "nbconvert_exporter": "python",
   "pygments_lexer": "ipython3",
   "version": "3.11.3"
  }
 },
 "nbformat": 4,
 "nbformat_minor": 2
}
